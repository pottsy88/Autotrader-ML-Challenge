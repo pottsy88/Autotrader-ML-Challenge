{
 "cells": [
  {
   "cell_type": "markdown",
   "metadata": {},
   "source": [
    "# AutoTrader Challenge"
   ]
  },
  {
   "cell_type": "markdown",
   "metadata": {},
   "source": [
    "## Setup"
   ]
  },
  {
   "cell_type": "code",
   "execution_count": 198,
   "metadata": {},
   "outputs": [],
   "source": [
    "import pandas as pd\n",
    "import matplotlib.pyplot as plt\n",
    "import seaborn as sns\n",
    "import numpy as np\n",
    "import pyarrow # For accessing parquet files\n",
    "import re\n",
    "from sklearn.preprocessing import LabelEncoder, StandardScaler, RobustScaler\n",
    "from sklearn.linear_model import LinearRegression\n",
    "from sklearn.pipeline import make_pipeline\n",
    "from sklearn.model_selection import train_test_split\n",
    "from sklearn.pipeline import Pipeline\n",
    "from sklearn.decomposition import PCA\n",
    "from sklearn.metrics import PredictionErrorDisplay, mean_absolute_error, mean_squared_error\n",
    "from sklearn.model_selection import KFold, cross_val_score, GridSearchCV"
   ]
  },
  {
   "cell_type": "code",
   "execution_count": 94,
   "metadata": {},
   "outputs": [],
   "source": [
    "data_path= f\"rate_of_sale_may_2023.snappy.parquet\" \n",
    "\n",
    "data_dict_path = f\"rate_of_sale_data_dict.csv\" \n",
    "\n",
    "df = pd.read_parquet(data_path) \n",
    "\n",
    "category_descriptions = pd.read_csv(data_dict_path) "
   ]
  },
  {
   "cell_type": "code",
   "execution_count": 95,
   "metadata": {},
   "outputs": [
    {
     "data": {
      "text/html": [
       "<div>\n",
       "<style scoped>\n",
       "    .dataframe tbody tr th:only-of-type {\n",
       "        vertical-align: middle;\n",
       "    }\n",
       "\n",
       "    .dataframe tbody tr th {\n",
       "        vertical-align: top;\n",
       "    }\n",
       "\n",
       "    .dataframe thead th {\n",
       "        text-align: right;\n",
       "    }\n",
       "</style>\n",
       "<table border=\"1\" class=\"dataframe\">\n",
       "  <thead>\n",
       "    <tr style=\"text-align: right;\">\n",
       "      <th></th>\n",
       "      <th>stock_item_id</th>\n",
       "      <th>last_date_seen</th>\n",
       "      <th>first_date_seen</th>\n",
       "      <th>days_to_sell</th>\n",
       "      <th>first_retailer_asking_price</th>\n",
       "      <th>last_retailer_asking_price</th>\n",
       "      <th>can_home_deliver</th>\n",
       "      <th>reviews_per_100_advertised_stock_last_12_months</th>\n",
       "      <th>segment</th>\n",
       "      <th>seats</th>\n",
       "      <th>...</th>\n",
       "      <th>odometer_reading_miles</th>\n",
       "      <th>first_registration_date</th>\n",
       "      <th>attention_grabber</th>\n",
       "      <th>manufacturer_approved</th>\n",
       "      <th>price_indicator_rating</th>\n",
       "      <th>adjusted_retail_amount_gbp</th>\n",
       "      <th>predicted_mileage</th>\n",
       "      <th>number_of_images</th>\n",
       "      <th>advert_quality</th>\n",
       "      <th>postcode_area</th>\n",
       "    </tr>\n",
       "  </thead>\n",
       "  <tbody>\n",
       "    <tr>\n",
       "      <th>0</th>\n",
       "      <td>52ae009b671ab58b3d4ff109a9fbdcf8d847de0fa190e1...</td>\n",
       "      <td>2023-05-05</td>\n",
       "      <td>2021-03-25</td>\n",
       "      <td>771</td>\n",
       "      <td>6995</td>\n",
       "      <td>6495.0</td>\n",
       "      <td>False</td>\n",
       "      <td>3.9</td>\n",
       "      <td>Independent</td>\n",
       "      <td>5.0</td>\n",
       "      <td>...</td>\n",
       "      <td>65000</td>\n",
       "      <td>2004-05-07</td>\n",
       "      <td>*IMMACULATE**FULL HISTORY*</td>\n",
       "      <td>False</td>\n",
       "      <td>NOANALYSIS</td>\n",
       "      <td>NaN</td>\n",
       "      <td>NaN</td>\n",
       "      <td>50</td>\n",
       "      <td>NaN</td>\n",
       "      <td>AL</td>\n",
       "    </tr>\n",
       "    <tr>\n",
       "      <th>1</th>\n",
       "      <td>32b1bac6934b1f64ff43cffa9df5aa296ead8143c36f9f...</td>\n",
       "      <td>2023-05-09</td>\n",
       "      <td>2021-05-25</td>\n",
       "      <td>714</td>\n",
       "      <td>13725</td>\n",
       "      <td>14995.0</td>\n",
       "      <td>False</td>\n",
       "      <td>NaN</td>\n",
       "      <td>Franchise</td>\n",
       "      <td>5.0</td>\n",
       "      <td>...</td>\n",
       "      <td>16018</td>\n",
       "      <td>2019-11-30</td>\n",
       "      <td>Sports Styling | Great Economy</td>\n",
       "      <td>True</td>\n",
       "      <td>GOOD</td>\n",
       "      <td>14848.0</td>\n",
       "      <td>26078.0</td>\n",
       "      <td>15</td>\n",
       "      <td>57.0</td>\n",
       "      <td>HP</td>\n",
       "    </tr>\n",
       "    <tr>\n",
       "      <th>2</th>\n",
       "      <td>21703d22d87eaa95c4dc81a60ba2c8cbe3b90ab659292c...</td>\n",
       "      <td>2023-05-12</td>\n",
       "      <td>2021-11-26</td>\n",
       "      <td>532</td>\n",
       "      <td>15499</td>\n",
       "      <td>13999.0</td>\n",
       "      <td>False</td>\n",
       "      <td>0.2</td>\n",
       "      <td>Independent</td>\n",
       "      <td>5.0</td>\n",
       "      <td>...</td>\n",
       "      <td>31093</td>\n",
       "      <td>2018-03-08</td>\n",
       "      <td>Sat Nav,Leather,Auto,Euro 6</td>\n",
       "      <td>False</td>\n",
       "      <td>GREAT</td>\n",
       "      <td>14571.0</td>\n",
       "      <td>34732.0</td>\n",
       "      <td>22</td>\n",
       "      <td>61.0</td>\n",
       "      <td>SR</td>\n",
       "    </tr>\n",
       "    <tr>\n",
       "      <th>3</th>\n",
       "      <td>661acafc271373946cea7d30ac7f34257404ab89a1ad33...</td>\n",
       "      <td>2023-05-16</td>\n",
       "      <td>2022-02-17</td>\n",
       "      <td>453</td>\n",
       "      <td>10995</td>\n",
       "      <td>9995.0</td>\n",
       "      <td>False</td>\n",
       "      <td>7.9</td>\n",
       "      <td>Franchise</td>\n",
       "      <td>5.0</td>\n",
       "      <td>...</td>\n",
       "      <td>79000</td>\n",
       "      <td>2015-07-02</td>\n",
       "      <td>Viewing by APPOINTMENT ONLY</td>\n",
       "      <td>False</td>\n",
       "      <td>FAIR</td>\n",
       "      <td>9349.0</td>\n",
       "      <td>65684.0</td>\n",
       "      <td>30</td>\n",
       "      <td>61.0</td>\n",
       "      <td>FY</td>\n",
       "    </tr>\n",
       "    <tr>\n",
       "      <th>4</th>\n",
       "      <td>638216dc92410d965b416fea5b3cec9ca903368795fdde...</td>\n",
       "      <td>2023-05-04</td>\n",
       "      <td>2022-03-21</td>\n",
       "      <td>409</td>\n",
       "      <td>46000</td>\n",
       "      <td>37500.0</td>\n",
       "      <td>False</td>\n",
       "      <td>6.8</td>\n",
       "      <td>Franchise</td>\n",
       "      <td>5.0</td>\n",
       "      <td>...</td>\n",
       "      <td>10214</td>\n",
       "      <td>2022-03-03</td>\n",
       "      <td>Reserve Online</td>\n",
       "      <td>True</td>\n",
       "      <td>GOOD</td>\n",
       "      <td>37055.0</td>\n",
       "      <td>11765.0</td>\n",
       "      <td>22</td>\n",
       "      <td>48.0</td>\n",
       "      <td>LE</td>\n",
       "    </tr>\n",
       "    <tr>\n",
       "      <th>5</th>\n",
       "      <td>e3c8b08856a8736bb48c38f083d42f43f3e3e8e3466610...</td>\n",
       "      <td>2023-05-21</td>\n",
       "      <td>2022-04-27</td>\n",
       "      <td>389</td>\n",
       "      <td>1395</td>\n",
       "      <td>1295.0</td>\n",
       "      <td>False</td>\n",
       "      <td>2.6</td>\n",
       "      <td>Independent</td>\n",
       "      <td>5.0</td>\n",
       "      <td>...</td>\n",
       "      <td>91000</td>\n",
       "      <td>2009-03-25</td>\n",
       "      <td>8 MONTHS MOT</td>\n",
       "      <td>False</td>\n",
       "      <td>NOANALYSIS</td>\n",
       "      <td>2285.0</td>\n",
       "      <td>61512.0</td>\n",
       "      <td>15</td>\n",
       "      <td>NaN</td>\n",
       "      <td>RG</td>\n",
       "    </tr>\n",
       "    <tr>\n",
       "      <th>6</th>\n",
       "      <td>82369d8013f2ab13f8f49fb780797298a8dd19974d3b60...</td>\n",
       "      <td>2023-05-14</td>\n",
       "      <td>2022-06-06</td>\n",
       "      <td>342</td>\n",
       "      <td>8257</td>\n",
       "      <td>7457.0</td>\n",
       "      <td>False</td>\n",
       "      <td>NaN</td>\n",
       "      <td>Independent</td>\n",
       "      <td>5.0</td>\n",
       "      <td>...</td>\n",
       "      <td>58849</td>\n",
       "      <td>2015-03-18</td>\n",
       "      <td>£0 ROAD TAX, 1/2 LEATHER SEATS</td>\n",
       "      <td>False</td>\n",
       "      <td>LOW</td>\n",
       "      <td>8145.0</td>\n",
       "      <td>52450.0</td>\n",
       "      <td>24</td>\n",
       "      <td>54.0</td>\n",
       "      <td>PE</td>\n",
       "    </tr>\n",
       "    <tr>\n",
       "      <th>7</th>\n",
       "      <td>1fd13f137d7ed19e993b07dd1708992582537e56efb863...</td>\n",
       "      <td>2023-05-03</td>\n",
       "      <td>2022-06-16</td>\n",
       "      <td>321</td>\n",
       "      <td>23500</td>\n",
       "      <td>19500.0</td>\n",
       "      <td>False</td>\n",
       "      <td>1.2</td>\n",
       "      <td>Independent</td>\n",
       "      <td>5.0</td>\n",
       "      <td>...</td>\n",
       "      <td>40000</td>\n",
       "      <td>2017-11-30</td>\n",
       "      <td>LOW MILEAGE AUTOMATIC</td>\n",
       "      <td>False</td>\n",
       "      <td>NOANALYSIS</td>\n",
       "      <td>24662.0</td>\n",
       "      <td>52255.0</td>\n",
       "      <td>23</td>\n",
       "      <td>44.0</td>\n",
       "      <td>N</td>\n",
       "    </tr>\n",
       "    <tr>\n",
       "      <th>8</th>\n",
       "      <td>c34a29671d55abf60ea1ab1c23ad21a0a7437c8ffea756...</td>\n",
       "      <td>2023-05-16</td>\n",
       "      <td>2022-06-23</td>\n",
       "      <td>327</td>\n",
       "      <td>96950</td>\n",
       "      <td>84950.0</td>\n",
       "      <td>False</td>\n",
       "      <td>NaN</td>\n",
       "      <td>Independent</td>\n",
       "      <td>4.0</td>\n",
       "      <td>...</td>\n",
       "      <td>5000</td>\n",
       "      <td>2018-03-29</td>\n",
       "      <td>Mulliner Driving Specification</td>\n",
       "      <td>False</td>\n",
       "      <td>NOANALYSIS</td>\n",
       "      <td>96290.0</td>\n",
       "      <td>23167.0</td>\n",
       "      <td>9</td>\n",
       "      <td>NaN</td>\n",
       "      <td>HP</td>\n",
       "    </tr>\n",
       "    <tr>\n",
       "      <th>9</th>\n",
       "      <td>db6f342f73f5c7819fef4254e6886387eac15e026878ab...</td>\n",
       "      <td>2023-05-22</td>\n",
       "      <td>2022-06-24</td>\n",
       "      <td>332</td>\n",
       "      <td>15995</td>\n",
       "      <td>15695.0</td>\n",
       "      <td>False</td>\n",
       "      <td>NaN</td>\n",
       "      <td>Independent</td>\n",
       "      <td>5.0</td>\n",
       "      <td>...</td>\n",
       "      <td>34000</td>\n",
       "      <td>2018-11-07</td>\n",
       "      <td>DEPOSIT TAKEN ON THIS CAR</td>\n",
       "      <td>False</td>\n",
       "      <td>GOOD</td>\n",
       "      <td>15973.0</td>\n",
       "      <td>37233.0</td>\n",
       "      <td>30</td>\n",
       "      <td>65.0</td>\n",
       "      <td>CO</td>\n",
       "    </tr>\n",
       "  </tbody>\n",
       "</table>\n",
       "<p>10 rows × 42 columns</p>\n",
       "</div>"
      ],
      "text/plain": [
       "                                       stock_item_id last_date_seen  \\\n",
       "0  52ae009b671ab58b3d4ff109a9fbdcf8d847de0fa190e1...     2023-05-05   \n",
       "1  32b1bac6934b1f64ff43cffa9df5aa296ead8143c36f9f...     2023-05-09   \n",
       "2  21703d22d87eaa95c4dc81a60ba2c8cbe3b90ab659292c...     2023-05-12   \n",
       "3  661acafc271373946cea7d30ac7f34257404ab89a1ad33...     2023-05-16   \n",
       "4  638216dc92410d965b416fea5b3cec9ca903368795fdde...     2023-05-04   \n",
       "5  e3c8b08856a8736bb48c38f083d42f43f3e3e8e3466610...     2023-05-21   \n",
       "6  82369d8013f2ab13f8f49fb780797298a8dd19974d3b60...     2023-05-14   \n",
       "7  1fd13f137d7ed19e993b07dd1708992582537e56efb863...     2023-05-03   \n",
       "8  c34a29671d55abf60ea1ab1c23ad21a0a7437c8ffea756...     2023-05-16   \n",
       "9  db6f342f73f5c7819fef4254e6886387eac15e026878ab...     2023-05-22   \n",
       "\n",
       "  first_date_seen  days_to_sell  first_retailer_asking_price  \\\n",
       "0      2021-03-25           771                         6995   \n",
       "1      2021-05-25           714                        13725   \n",
       "2      2021-11-26           532                        15499   \n",
       "3      2022-02-17           453                        10995   \n",
       "4      2022-03-21           409                        46000   \n",
       "5      2022-04-27           389                         1395   \n",
       "6      2022-06-06           342                         8257   \n",
       "7      2022-06-16           321                        23500   \n",
       "8      2022-06-23           327                        96950   \n",
       "9      2022-06-24           332                        15995   \n",
       "\n",
       "   last_retailer_asking_price  can_home_deliver  \\\n",
       "0                      6495.0             False   \n",
       "1                     14995.0             False   \n",
       "2                     13999.0             False   \n",
       "3                      9995.0             False   \n",
       "4                     37500.0             False   \n",
       "5                      1295.0             False   \n",
       "6                      7457.0             False   \n",
       "7                     19500.0             False   \n",
       "8                     84950.0             False   \n",
       "9                     15695.0             False   \n",
       "\n",
       "   reviews_per_100_advertised_stock_last_12_months      segment  seats  ...  \\\n",
       "0                                              3.9  Independent    5.0  ...   \n",
       "1                                              NaN    Franchise    5.0  ...   \n",
       "2                                              0.2  Independent    5.0  ...   \n",
       "3                                              7.9    Franchise    5.0  ...   \n",
       "4                                              6.8    Franchise    5.0  ...   \n",
       "5                                              2.6  Independent    5.0  ...   \n",
       "6                                              NaN  Independent    5.0  ...   \n",
       "7                                              1.2  Independent    5.0  ...   \n",
       "8                                              NaN  Independent    4.0  ...   \n",
       "9                                              NaN  Independent    5.0  ...   \n",
       "\n",
       "   odometer_reading_miles  first_registration_date  \\\n",
       "0                   65000               2004-05-07   \n",
       "1                   16018               2019-11-30   \n",
       "2                   31093               2018-03-08   \n",
       "3                   79000               2015-07-02   \n",
       "4                   10214               2022-03-03   \n",
       "5                   91000               2009-03-25   \n",
       "6                   58849               2015-03-18   \n",
       "7                   40000               2017-11-30   \n",
       "8                    5000               2018-03-29   \n",
       "9                   34000               2018-11-07   \n",
       "\n",
       "                attention_grabber manufacturer_approved  \\\n",
       "0      *IMMACULATE**FULL HISTORY*                 False   \n",
       "1  Sports Styling | Great Economy                  True   \n",
       "2     Sat Nav,Leather,Auto,Euro 6                 False   \n",
       "3     Viewing by APPOINTMENT ONLY                 False   \n",
       "4                  Reserve Online                  True   \n",
       "5                    8 MONTHS MOT                 False   \n",
       "6  £0 ROAD TAX, 1/2 LEATHER SEATS                 False   \n",
       "7           LOW MILEAGE AUTOMATIC                 False   \n",
       "8  Mulliner Driving Specification                 False   \n",
       "9       DEPOSIT TAKEN ON THIS CAR                 False   \n",
       "\n",
       "  price_indicator_rating adjusted_retail_amount_gbp  predicted_mileage  \\\n",
       "0             NOANALYSIS                        NaN                NaN   \n",
       "1                   GOOD                    14848.0            26078.0   \n",
       "2                  GREAT                    14571.0            34732.0   \n",
       "3                   FAIR                     9349.0            65684.0   \n",
       "4                   GOOD                    37055.0            11765.0   \n",
       "5             NOANALYSIS                     2285.0            61512.0   \n",
       "6                    LOW                     8145.0            52450.0   \n",
       "7             NOANALYSIS                    24662.0            52255.0   \n",
       "8             NOANALYSIS                    96290.0            23167.0   \n",
       "9                   GOOD                    15973.0            37233.0   \n",
       "\n",
       "  number_of_images advert_quality  postcode_area  \n",
       "0               50            NaN             AL  \n",
       "1               15           57.0             HP  \n",
       "2               22           61.0             SR  \n",
       "3               30           61.0             FY  \n",
       "4               22           48.0             LE  \n",
       "5               15            NaN             RG  \n",
       "6               24           54.0             PE  \n",
       "7               23           44.0              N  \n",
       "8                9            NaN             HP  \n",
       "9               30           65.0             CO  \n",
       "\n",
       "[10 rows x 42 columns]"
      ]
     },
     "execution_count": 95,
     "metadata": {},
     "output_type": "execute_result"
    }
   ],
   "source": [
    "df.head(10)\n",
    "\n"
   ]
  },
  {
   "cell_type": "code",
   "execution_count": 96,
   "metadata": {},
   "outputs": [
    {
     "data": {
      "text/plain": [
       "stock_item_id                                           0\n",
       "last_date_seen                                          0\n",
       "first_date_seen                                         0\n",
       "days_to_sell                                            0\n",
       "first_retailer_asking_price                             0\n",
       "last_retailer_asking_price                            929\n",
       "can_home_deliver                                        0\n",
       "reviews_per_100_advertised_stock_last_12_months     33266\n",
       "segment                                                32\n",
       "seats                                                 129\n",
       "doors                                                   4\n",
       "co2_emission_gpkm                                     117\n",
       "top_speed_mph                                         653\n",
       "zero_to_sixty_mph_seconds                          143152\n",
       "engine_power_bhp                                        2\n",
       "fuel_economy_wltp_combined_mpg                       6868\n",
       "battery_range_miles                                213494\n",
       "battery_usable_capacity_kwh                        213495\n",
       "length_mm                                             396\n",
       "boot_space_seats_up_litres                           7201\n",
       "insurance_group                                       708\n",
       "plate                                                   4\n",
       "make                                                    0\n",
       "model                                                   0\n",
       "generation                                              0\n",
       "derivative                                              0\n",
       "derivative_id                                           0\n",
       "body_type                                               0\n",
       "fuel_type                                               0\n",
       "transmission_type                                       0\n",
       "drivetrain                                              1\n",
       "colour                                               2072\n",
       "odometer_reading_miles                                  0\n",
       "first_registration_date                                40\n",
       "attention_grabber                                   20533\n",
       "manufacturer_approved                                   0\n",
       "price_indicator_rating                                  0\n",
       "adjusted_retail_amount_gbp                           8166\n",
       "predicted_mileage                                    7851\n",
       "number_of_images                                        0\n",
       "advert_quality                                      43932\n",
       "postcode_area                                          32\n",
       "dtype: int64"
      ]
     },
     "execution_count": 96,
     "metadata": {},
     "output_type": "execute_result"
    }
   ],
   "source": [
    "df.isna().sum()\n",
    "\n",
    "# drop na and work out feature importance first"
   ]
  },
  {
   "cell_type": "code",
   "execution_count": 97,
   "metadata": {},
   "outputs": [
    {
     "name": "stdout",
     "output_type": "stream",
     "text": [
      "<class 'pandas.core.frame.DataFrame'>\n",
      "RangeIndex: 224555 entries, 0 to 224554\n",
      "Data columns (total 42 columns):\n",
      " #   Column                                           Non-Null Count   Dtype  \n",
      "---  ------                                           --------------   -----  \n",
      " 0   stock_item_id                                    224555 non-null  object \n",
      " 1   last_date_seen                                   224555 non-null  object \n",
      " 2   first_date_seen                                  224555 non-null  object \n",
      " 3   days_to_sell                                     224555 non-null  int32  \n",
      " 4   first_retailer_asking_price                      224555 non-null  int64  \n",
      " 5   last_retailer_asking_price                       223626 non-null  float64\n",
      " 6   can_home_deliver                                 224555 non-null  bool   \n",
      " 7   reviews_per_100_advertised_stock_last_12_months  191289 non-null  float64\n",
      " 8   segment                                          224523 non-null  object \n",
      " 9   seats                                            224426 non-null  float64\n",
      " 10  doors                                            224551 non-null  float64\n",
      " 11  co2_emission_gpkm                                224438 non-null  float64\n",
      " 12  top_speed_mph                                    223902 non-null  float64\n",
      " 13  zero_to_sixty_mph_seconds                        81403 non-null   object \n",
      " 14  engine_power_bhp                                 224553 non-null  object \n",
      " 15  fuel_economy_wltp_combined_mpg                   217687 non-null  object \n",
      " 16  battery_range_miles                              11061 non-null   float64\n",
      " 17  battery_usable_capacity_kwh                      11060 non-null   object \n",
      " 18  length_mm                                        224159 non-null  object \n",
      " 19  boot_space_seats_up_litres                       217354 non-null  float64\n",
      " 20  insurance_group                                  223847 non-null  object \n",
      " 21  plate                                            224551 non-null  object \n",
      " 22  make                                             224555 non-null  object \n",
      " 23  model                                            224555 non-null  object \n",
      " 24  generation                                       224555 non-null  object \n",
      " 25  derivative                                       224555 non-null  object \n",
      " 26  derivative_id                                    224555 non-null  object \n",
      " 27  body_type                                        224555 non-null  object \n",
      " 28  fuel_type                                        224555 non-null  object \n",
      " 29  transmission_type                                224555 non-null  object \n",
      " 30  drivetrain                                       224554 non-null  object \n",
      " 31  colour                                           222483 non-null  object \n",
      " 32  odometer_reading_miles                           224555 non-null  int64  \n",
      " 33  first_registration_date                          224515 non-null  object \n",
      " 34  attention_grabber                                204022 non-null  object \n",
      " 35  manufacturer_approved                            224555 non-null  bool   \n",
      " 36  price_indicator_rating                           224555 non-null  object \n",
      " 37  adjusted_retail_amount_gbp                       216389 non-null  float64\n",
      " 38  predicted_mileage                                216704 non-null  float64\n",
      " 39  number_of_images                                 224555 non-null  int32  \n",
      " 40  advert_quality                                   180623 non-null  float64\n",
      " 41  postcode_area                                    224523 non-null  object \n",
      "dtypes: bool(2), float64(11), int32(2), int64(2), object(25)\n",
      "memory usage: 67.2+ MB\n"
     ]
    }
   ],
   "source": [
    "df.info()"
   ]
  },
  {
   "cell_type": "code",
   "execution_count": 98,
   "metadata": {},
   "outputs": [
    {
     "data": {
      "text/html": [
       "<div>\n",
       "<style scoped>\n",
       "    .dataframe tbody tr th:only-of-type {\n",
       "        vertical-align: middle;\n",
       "    }\n",
       "\n",
       "    .dataframe tbody tr th {\n",
       "        vertical-align: top;\n",
       "    }\n",
       "\n",
       "    .dataframe thead th {\n",
       "        text-align: right;\n",
       "    }\n",
       "</style>\n",
       "<table border=\"1\" class=\"dataframe\">\n",
       "  <thead>\n",
       "    <tr style=\"text-align: right;\">\n",
       "      <th></th>\n",
       "      <th>Field</th>\n",
       "      <th>Description</th>\n",
       "    </tr>\n",
       "  </thead>\n",
       "  <tbody>\n",
       "    <tr>\n",
       "      <th>0</th>\n",
       "      <td>stock_item_id</td>\n",
       "      <td>Unique ID of the advert e.g. 8a42801e86dad35a0...</td>\n",
       "    </tr>\n",
       "    <tr>\n",
       "      <th>1</th>\n",
       "      <td>last_date_seen</td>\n",
       "      <td>The date the vehicle was last seen advertised ...</td>\n",
       "    </tr>\n",
       "    <tr>\n",
       "      <th>2</th>\n",
       "      <td>first_date_seen</td>\n",
       "      <td>The first date the vehicle was listed on Auto ...</td>\n",
       "    </tr>\n",
       "    <tr>\n",
       "      <th>3</th>\n",
       "      <td>days_to_sell</td>\n",
       "      <td>The difference in days between first_date_seen...</td>\n",
       "    </tr>\n",
       "    <tr>\n",
       "      <th>4</th>\n",
       "      <td>first_retailer_asking_price</td>\n",
       "      <td>The price the advert had when first created. T...</td>\n",
       "    </tr>\n",
       "    <tr>\n",
       "      <th>5</th>\n",
       "      <td>last_retailer_asking_price</td>\n",
       "      <td>The last seen price</td>\n",
       "    </tr>\n",
       "    <tr>\n",
       "      <th>6</th>\n",
       "      <td>can_home_deliver</td>\n",
       "      <td>This advert is able to be delivered to the buy...</td>\n",
       "    </tr>\n",
       "    <tr>\n",
       "      <th>7</th>\n",
       "      <td>reviews_per_100_advertised_stock_last_12_months</td>\n",
       "      <td>How many reviews the seller has recieved in th...</td>\n",
       "    </tr>\n",
       "    <tr>\n",
       "      <th>8</th>\n",
       "      <td>segment</td>\n",
       "      <td>Whether the seller is a Franchise or Independe...</td>\n",
       "    </tr>\n",
       "    <tr>\n",
       "      <th>9</th>\n",
       "      <td>seats</td>\n",
       "      <td>Number of seats in the vehicle</td>\n",
       "    </tr>\n",
       "  </tbody>\n",
       "</table>\n",
       "</div>"
      ],
      "text/plain": [
       "                                             Field  \\\n",
       "0                                    stock_item_id   \n",
       "1                                   last_date_seen   \n",
       "2                                  first_date_seen   \n",
       "3                                     days_to_sell   \n",
       "4                      first_retailer_asking_price   \n",
       "5                       last_retailer_asking_price   \n",
       "6                                 can_home_deliver   \n",
       "7  reviews_per_100_advertised_stock_last_12_months   \n",
       "8                                          segment   \n",
       "9                                            seats   \n",
       "\n",
       "                                         Description  \n",
       "0  Unique ID of the advert e.g. 8a42801e86dad35a0...  \n",
       "1  The date the vehicle was last seen advertised ...  \n",
       "2  The first date the vehicle was listed on Auto ...  \n",
       "3  The difference in days between first_date_seen...  \n",
       "4  The price the advert had when first created. T...  \n",
       "5                                The last seen price  \n",
       "6  This advert is able to be delivered to the buy...  \n",
       "7  How many reviews the seller has recieved in th...  \n",
       "8  Whether the seller is a Franchise or Independe...  \n",
       "9                     Number of seats in the vehicle  "
      ]
     },
     "execution_count": 98,
     "metadata": {},
     "output_type": "execute_result"
    }
   ],
   "source": [
    "category_descriptions.head(10)"
   ]
  },
  {
   "cell_type": "markdown",
   "metadata": {},
   "source": [
    "## Data Sanitisation"
   ]
  },
  {
   "cell_type": "code",
   "execution_count": 99,
   "metadata": {},
   "outputs": [
    {
     "data": {
      "text/plain": [
       "(224555, 42)"
      ]
     },
     "execution_count": 99,
     "metadata": {},
     "output_type": "execute_result"
    }
   ],
   "source": [
    "df.shape"
   ]
  },
  {
   "cell_type": "markdown",
   "metadata": {},
   "source": [
    "### Drop Irrelevant Columns"
   ]
  },
  {
   "cell_type": "code",
   "execution_count": 100,
   "metadata": {},
   "outputs": [],
   "source": [
    "df = df[df['stock_item_id'] != '6e0bc864bc4906de2ee2f20287772e9f3fa6fd788b7f7e9e29304c7c8c40dcfd']"
   ]
  },
  {
   "cell_type": "code",
   "execution_count": 101,
   "metadata": {},
   "outputs": [],
   "source": [
    "df = df.drop(columns=['stock_item_id', 'derivative', 'derivative_id', 'generation', 'colour', 'boot_space_seats_up_litres', 'first_registration_date', 'last_date_seen'])"
   ]
  },
  {
   "cell_type": "code",
   "execution_count": 102,
   "metadata": {},
   "outputs": [],
   "source": [
    "df['zero_to_sixty_mph_seconds'] = df['zero_to_sixty_mph_seconds'].astype(float)\n",
    "df['engine_power_bhp'] = df['engine_power_bhp'].astype(float)\n",
    "df['fuel_economy_wltp_combined_mpg'] = df['fuel_economy_wltp_combined_mpg'].astype(float)\n",
    "df['battery_usable_capacity_kwh'] = df['battery_usable_capacity_kwh'].astype(float)\n",
    "df['length_mm'] = df['length_mm'].astype(float)\n",
    "df['insurance_group'] = df['insurance_group'].astype(float)"
   ]
  },
  {
   "cell_type": "code",
   "execution_count": 103,
   "metadata": {},
   "outputs": [],
   "source": [
    "df = df.dropna(subset=['plate'])\n",
    "contains_letter = df['plate'].str.contains('[a-zA-Z]', regex=True)\n",
    "df.loc[contains_letter, 'plate'] = 1"
   ]
  },
  {
   "cell_type": "code",
   "execution_count": 104,
   "metadata": {},
   "outputs": [],
   "source": [
    "df['plate'] = df['plate'].astype(float)"
   ]
  },
  {
   "cell_type": "code",
   "execution_count": 105,
   "metadata": {},
   "outputs": [],
   "source": [
    "non_elec = df['fuel_type'].isin(['Petrol', 'Diesel', 'Bi_fuel'])\n",
    "df.loc[non_elec, 'battery_usable_capacity_kwh'] = 0\n",
    "df.loc[non_elec, 'battery_range_miles'] = 0"
   ]
  },
  {
   "cell_type": "code",
   "execution_count": 106,
   "metadata": {},
   "outputs": [
    {
     "data": {
      "text/plain": [
       "12944"
      ]
     },
     "execution_count": 106,
     "metadata": {},
     "output_type": "execute_result"
    }
   ],
   "source": [
    "df['battery_usable_capacity_kwh'].isnull().sum()"
   ]
  },
  {
   "cell_type": "code",
   "execution_count": 107,
   "metadata": {},
   "outputs": [],
   "source": [
    "filtered_df = df[(~df['fuel_type'].isin(['Petrol', 'Diesel', 'Bi_fuel'])) & (df['battery_usable_capacity_kwh'] == 0)]\n",
    "\n",
    "# Step 2: Compute the mean 'battery_usable_capacity_kwh' for each 'make'\n",
    "mean_capacity_by_make = df.groupby('make')['battery_usable_capacity_kwh'].mean()\n",
    "\n",
    "# Step 3: Replace 0 values in 'battery_usable_capacity_kwh' with the mean value per make\n",
    "for make, mean_capacity in mean_capacity_by_make.items():\n",
    "    df.loc[(df['make'] == make) & (df['battery_usable_capacity_kwh'] == 0), 'battery_usable_capacity_kwh'] = mean_capacity"
   ]
  },
  {
   "cell_type": "code",
   "execution_count": 108,
   "metadata": {},
   "outputs": [
    {
     "data": {
      "text/plain": [
       "12944"
      ]
     },
     "execution_count": 108,
     "metadata": {},
     "output_type": "execute_result"
    }
   ],
   "source": [
    "df['battery_usable_capacity_kwh'].isnull().sum()"
   ]
  },
  {
   "cell_type": "code",
   "execution_count": 109,
   "metadata": {},
   "outputs": [
    {
     "data": {
      "text/plain": [
       "array(['NOANALYSIS', 'GOOD', 'GREAT', 'FAIR', 'LOW', 'HIGH'], dtype=object)"
      ]
     },
     "execution_count": 109,
     "metadata": {},
     "output_type": "execute_result"
    }
   ],
   "source": [
    "df['price_indicator_rating'].unique()"
   ]
  },
  {
   "cell_type": "code",
   "execution_count": 110,
   "metadata": {},
   "outputs": [],
   "source": [
    "df['price_indicator_rating'] = df['price_indicator_rating'].replace({'NOANALYSIS': 0, 'GOOD': 1, 'GREAT': 2, 'FAIR': 3, 'LOW': 4, 'HIGH': 5})\n",
    "df['price_indicator_rating'] = df['price_indicator_rating'].astype(int)\n",
    "df = df[df['last_retailer_asking_price'] != 1]\n",
    "df['last_retailer_asking_price'] = df['last_retailer_asking_price'].fillna(df['first_retailer_asking_price'])"
   ]
  },
  {
   "cell_type": "code",
   "execution_count": 111,
   "metadata": {},
   "outputs": [],
   "source": [
    "df['reviews_per_100_advertised_stock_last_12_months'] = df['reviews_per_100_advertised_stock_last_12_months'].clip(upper=100)\n",
    "\n",
    "mean_reviews = df['reviews_per_100_advertised_stock_last_12_months'].mean()\n",
    "df['reviews_per_100_advertised_stock_last_12_months'] = df['reviews_per_100_advertised_stock_last_12_months'].fillna(mean_reviews)\n",
    "\n"
   ]
  },
  {
   "cell_type": "code",
   "execution_count": 112,
   "metadata": {},
   "outputs": [],
   "source": [
    "df = df.dropna(subset=['segment'])\n",
    "df = df.dropna(subset=['doors'])\n",
    "for sts in df['doors'].unique():\n",
    "    if df[(df['doors'] == sts) & (df['seats'].isnull())].empty:\n",
    "        continue\n",
    "    mseats = df[df['doors'] == sts]['seats'].mode()\n",
    "    if not mseats.empty:\n",
    "        df.loc[(df['doors'] == sts) & (df['seats'].isnull()), 'seats'] = mseats.iloc[0]"
   ]
  },
  {
   "cell_type": "code",
   "execution_count": 113,
   "metadata": {},
   "outputs": [],
   "source": [
    "df.loc[df['fuel_type'] == 'Electric', 'co2_emission_gpkm'] = 0\n",
    "for emissions in df['fuel_type'].unique():\n",
    "    if df[(df['fuel_type'] == emissions) & (df['co2_emission_gpkm'].isnull())].empty:\n",
    "        continue\n",
    "    emiss = df[df['fuel_type'] == emissions]['co2_emission_gpkm'].mode()\n",
    "    if not emiss.empty:\n",
    "        df.loc[(df['fuel_type'] == emissions) & (df['co2_emission_gpkm'].isnull()), 'co2_emission_gpkm'] = emiss.iloc[0]\n"
   ]
  },
  {
   "cell_type": "code",
   "execution_count": 114,
   "metadata": {},
   "outputs": [],
   "source": [
    "for mk in df['make'].unique():\n",
    "    if df[(df['make'] == mk) & (df['model'].isnull())].empty:\n",
    "        continue\n",
    "    mdl = df[df['make'] == mk]['model'].mode()\n",
    "    if not mdl.empty:\n",
    "        df.loc[(df['make'] == mk) & (df['model'].isnull()), 'model'] = mdl.iloc[0]"
   ]
  },
  {
   "cell_type": "code",
   "execution_count": 115,
   "metadata": {},
   "outputs": [],
   "source": [
    "for mod in df['model'].unique():\n",
    "    if df[(df['model'] == mod) & (df['top_speed_mph'].isnull())].empty:\n",
    "        continue\n",
    "    tspeed = df[df['model'] == mod]['top_speed_mph'].mode()\n",
    "    if not tspeed.empty:\n",
    "        df.loc[(df['model'] == mod) & (df['top_speed_mph'].isnull()), 'top_speed_mph'] = tspeed.iloc[0]"
   ]
  },
  {
   "cell_type": "code",
   "execution_count": 116,
   "metadata": {},
   "outputs": [],
   "source": [
    "df = df.dropna(subset=['top_speed_mph'])"
   ]
  },
  {
   "cell_type": "code",
   "execution_count": 117,
   "metadata": {},
   "outputs": [],
   "source": [
    "for tsm in df['model'].unique():\n",
    "    if df[(df['model'] == tsm) & (df['zero_to_sixty_mph_seconds'].isnull())].empty:\n",
    "        continue\n",
    "    zts = df[df['model'] == tsm]['zero_to_sixty_mph_seconds'].mode()\n",
    "    if not zts.empty:\n",
    "        df.loc[(df['model'] == tsm) & (df['zero_to_sixty_mph_seconds'].isnull()), 'zero_to_sixty_mph_seconds'] = zts.iloc[0]"
   ]
  },
  {
   "cell_type": "code",
   "execution_count": 118,
   "metadata": {},
   "outputs": [],
   "source": [
    "for tsm in df['make'].unique():\n",
    "    if df[(df['make'] == tsm) & (df['zero_to_sixty_mph_seconds'].isnull())].empty:\n",
    "        continue\n",
    "    zts = df[df['make'] == tsm]['zero_to_sixty_mph_seconds'].mode()\n",
    "    if not zts.empty:\n",
    "        df.loc[(df['make'] == tsm) & (df['zero_to_sixty_mph_seconds'].isnull()), 'zero_to_sixty_mph_seconds'] = zts.iloc[0]"
   ]
  },
  {
   "cell_type": "code",
   "execution_count": 119,
   "metadata": {},
   "outputs": [],
   "source": [
    "df = df.dropna(subset=['zero_to_sixty_mph_seconds'])\n",
    "df = df.dropna(subset=['engine_power_bhp'])"
   ]
  },
  {
   "cell_type": "code",
   "execution_count": 120,
   "metadata": {},
   "outputs": [],
   "source": [
    "for fmpg in df['model'].unique():\n",
    "    if df[(df['model'] == fmpg) & (df['fuel_economy_wltp_combined_mpg'].isnull())].empty:\n",
    "        continue\n",
    "    mwltp = df[df['model'] == fmpg]['fuel_economy_wltp_combined_mpg'].mode()\n",
    "    if not mwltp.empty:\n",
    "        df.loc[(df['model'] == fmpg) & (df['fuel_economy_wltp_combined_mpg'].isnull()), 'fuel_economy_wltp_combined_mpg'] = mwltp.iloc[0]"
   ]
  },
  {
   "cell_type": "code",
   "execution_count": 121,
   "metadata": {},
   "outputs": [],
   "source": [
    "for fmpg in df['make'].unique():\n",
    "    if df[(df['make'] == fmpg) & (df['fuel_economy_wltp_combined_mpg'].isnull())].empty:\n",
    "        continue\n",
    "    mwltp = df[df['make'] == fmpg]['fuel_economy_wltp_combined_mpg'].mode()\n",
    "    if not mwltp.empty:\n",
    "        df.loc[(df['make'] == fmpg) & (df['fuel_economy_wltp_combined_mpg'].isnull()), 'fuel_economy_wltp_combined_mpg'] = mwltp.iloc[0]"
   ]
  },
  {
   "cell_type": "code",
   "execution_count": 122,
   "metadata": {},
   "outputs": [
    {
     "data": {
      "text/plain": [
       "0     2.57\n",
       "1     0.38\n",
       "2    13.11\n",
       "3     0.38\n",
       "4     1.40\n",
       "5     2.08\n",
       "6     0.38\n",
       "7     1.40\n",
       "8     0.41\n",
       "9     1.95\n",
       "Name: battery_usable_capacity_kwh, dtype: float64"
      ]
     },
     "execution_count": 122,
     "metadata": {},
     "output_type": "execute_result"
    }
   ],
   "source": [
    "df['battery_usable_capacity_kwh'] = df['battery_usable_capacity_kwh'].round(2)\n",
    "df['battery_usable_capacity_kwh'].head(10)"
   ]
  },
  {
   "cell_type": "code",
   "execution_count": 123,
   "metadata": {},
   "outputs": [],
   "source": [
    "for index, row in df[df['length_mm'] == 0].iterrows():\n",
    "    mode_length = df[df['model'] == row['model']]['length_mm'].mode()\n",
    "    if not mode_length.empty:\n",
    "        df.at[index, 'length_mm'] = mode_length.iloc[0]"
   ]
  },
  {
   "cell_type": "code",
   "execution_count": 124,
   "metadata": {},
   "outputs": [],
   "source": [
    "mean_battery_range = df.groupby(['make', 'fuel_type'])['battery_range_miles'].transform('mean')\n",
    "\n",
    "# Fill null values in 'battery_range_miles' with the corresponding mean values\n",
    "df['battery_range_miles'].fillna(mean_battery_range, inplace=True)"
   ]
  },
  {
   "cell_type": "code",
   "execution_count": 125,
   "metadata": {},
   "outputs": [],
   "source": [
    "for brm in df['make'].unique():\n",
    "    if df[(df['make'] == brm) & (df['battery_range_miles'].isnull())].empty:\n",
    "        continue\n",
    "    ftp = df[df['make'] == brm]['battery_range_miles'].mode()\n",
    "    if not ftp.empty:\n",
    "        df.loc[(df['make'] == brm) & (df['battery_range_miles'].isnull()), 'battery_range_miles'] = ftp.iloc[0]"
   ]
  },
  {
   "cell_type": "code",
   "execution_count": 126,
   "metadata": {},
   "outputs": [],
   "source": [
    "non_elec = df['fuel_type'].isin(['Petrol', 'Diesel', 'Bi_fuel'])\n",
    "df.loc[non_elec, 'battery_usable_capacity_kwh'] = 0\n",
    "df.loc[non_elec, 'battery_range_miles'] = 0"
   ]
  },
  {
   "cell_type": "code",
   "execution_count": 127,
   "metadata": {},
   "outputs": [],
   "source": [
    "for buck in df['model'].unique():\n",
    "    if df[(df['model'] == buck) & (df['battery_usable_capacity_kwh'].isnull())].empty:\n",
    "        continue\n",
    "    mbuck = df[df['model'] == buck]['battery_usable_capacity_kwh'].mode()\n",
    "    if not mbuck.empty:\n",
    "        df.loc[(df['model'] == buck) & (df['battery_usable_capacity_kwh'].isnull()), 'battery_usable_capacity_kwh'] = mbuck.iloc[0]"
   ]
  },
  {
   "cell_type": "code",
   "execution_count": 128,
   "metadata": {},
   "outputs": [],
   "source": [
    "df = df.dropna(subset=['battery_usable_capacity_kwh'])"
   ]
  },
  {
   "cell_type": "code",
   "execution_count": 129,
   "metadata": {},
   "outputs": [],
   "source": [
    "for lmm in df['make'].unique():\n",
    "    if df[(df['make'] == lmm) & (df['length_mm'].isnull())].empty:\n",
    "        continue\n",
    "    mlmm = df[df['make'] == lmm]['length_mm'].mode()\n",
    "    if not mlmm.empty:\n",
    "        df.loc[(df['make'] == lmm) & (df['length_mm'].isnull()), 'length_mm'] = mlmm.iloc[0]"
   ]
  },
  {
   "cell_type": "code",
   "execution_count": 130,
   "metadata": {},
   "outputs": [],
   "source": [
    "df = df.dropna(subset=['length_mm'])"
   ]
  },
  {
   "cell_type": "code",
   "execution_count": 131,
   "metadata": {},
   "outputs": [],
   "source": [
    "for ig in df['make'].unique():\n",
    "    if df[(df['make'] == ig) & (df['insurance_group'].isnull())].empty:\n",
    "        continue\n",
    "    mig = df[df['make'] == ig]['insurance_group'].mode()\n",
    "    if not mig.empty:\n",
    "        df.loc[(df['make'] == ig) & (df['insurance_group'].isnull()), 'insurance_group'] = mig.iloc[0]"
   ]
  },
  {
   "cell_type": "code",
   "execution_count": 132,
   "metadata": {},
   "outputs": [],
   "source": [
    "df = df.dropna(subset=['insurance_group'])"
   ]
  },
  {
   "cell_type": "code",
   "execution_count": 133,
   "metadata": {},
   "outputs": [
    {
     "data": {
      "text/plain": [
       "(222766, 34)"
      ]
     },
     "execution_count": 133,
     "metadata": {},
     "output_type": "execute_result"
    }
   ],
   "source": [
    "df.shape"
   ]
  },
  {
   "cell_type": "code",
   "execution_count": 134,
   "metadata": {},
   "outputs": [],
   "source": [
    "mask = df['attention_grabber'].astype(str).str.match('^\\d+$')\n",
    "df = df[~mask]"
   ]
  },
  {
   "cell_type": "code",
   "execution_count": 135,
   "metadata": {},
   "outputs": [],
   "source": [
    "df['attention_grabber'] = df['attention_grabber'].fillna('z')"
   ]
  },
  {
   "cell_type": "code",
   "execution_count": 136,
   "metadata": {},
   "outputs": [
    {
     "data": {
      "text/plain": [
       "(222744, 34)"
      ]
     },
     "execution_count": 136,
     "metadata": {},
     "output_type": "execute_result"
    }
   ],
   "source": [
    "df.shape"
   ]
  },
  {
   "cell_type": "code",
   "execution_count": 137,
   "metadata": {},
   "outputs": [],
   "source": [
    "def contains_capital_and_special(text):\n",
    "    return any(char.isupper() for char in text) and any(not char.isalnum() for char in text)\n",
    "\n",
    "df['attention_grabber'] = df['attention_grabber'].apply(lambda x: \"3\" if contains_capital_and_special(str(x)) else x)"
   ]
  },
  {
   "cell_type": "code",
   "execution_count": 138,
   "metadata": {},
   "outputs": [],
   "source": [
    "df.loc[df['attention_grabber'].str.contains('*', regex=False), 'attention_grabber'] = '3'"
   ]
  },
  {
   "cell_type": "code",
   "execution_count": 139,
   "metadata": {},
   "outputs": [
    {
     "data": {
      "text/plain": [
       "array(['3', 'full service history', 'z', ..., 'great family car',\n",
       "       'low mileage example', 'mazda approved cars & service'],\n",
       "      dtype=object)"
      ]
     },
     "execution_count": 139,
     "metadata": {},
     "output_type": "execute_result"
    }
   ],
   "source": [
    "df['attention_grabber'].unique()"
   ]
  },
  {
   "cell_type": "code",
   "execution_count": 140,
   "metadata": {},
   "outputs": [],
   "source": [
    "df.loc[df['attention_grabber'].str.contains(r'[A-Z]', regex=True), 'attention_grabber'] = '2'"
   ]
  },
  {
   "cell_type": "code",
   "execution_count": 141,
   "metadata": {},
   "outputs": [],
   "source": [
    "df.loc[df['attention_grabber'].str.contains(r'[a-z]', regex=True), 'attention_grabber'] = '1'"
   ]
  },
  {
   "cell_type": "code",
   "execution_count": 142,
   "metadata": {},
   "outputs": [
    {
     "data": {
      "text/plain": [
       "(222744, 34)"
      ]
     },
     "execution_count": 142,
     "metadata": {},
     "output_type": "execute_result"
    }
   ],
   "source": [
    "df.shape"
   ]
  },
  {
   "cell_type": "code",
   "execution_count": 143,
   "metadata": {},
   "outputs": [],
   "source": [
    "valid_values = ['1', '2', '3']\n",
    "maskk = df['attention_grabber'].isin(valid_values)\n",
    "df = df[maskk]"
   ]
  },
  {
   "cell_type": "code",
   "execution_count": 144,
   "metadata": {},
   "outputs": [
    {
     "data": {
      "text/plain": [
       "(222724, 34)"
      ]
     },
     "execution_count": 144,
     "metadata": {},
     "output_type": "execute_result"
    }
   ],
   "source": [
    "df.shape"
   ]
  },
  {
   "cell_type": "code",
   "execution_count": 145,
   "metadata": {},
   "outputs": [
    {
     "data": {
      "text/plain": [
       "array(['3', '1', '2'], dtype=object)"
      ]
     },
     "execution_count": 145,
     "metadata": {},
     "output_type": "execute_result"
    }
   ],
   "source": [
    "df['attention_grabber'].unique().sum()\n",
    "df['attention_grabber'].unique()"
   ]
  },
  {
   "cell_type": "code",
   "execution_count": 146,
   "metadata": {},
   "outputs": [],
   "source": [
    "df['attention_grabber'] = df['attention_grabber'].astype(int)"
   ]
  },
  {
   "cell_type": "code",
   "execution_count": 147,
   "metadata": {},
   "outputs": [],
   "source": [
    "df['adjusted_retail_amount_gbp'] = df['adjusted_retail_amount_gbp'].fillna(df['last_retailer_asking_price'])"
   ]
  },
  {
   "cell_type": "code",
   "execution_count": 148,
   "metadata": {},
   "outputs": [],
   "source": [
    "for pam in df['odometer_reading_miles'].unique():\n",
    "    if df[(df['odometer_reading_miles'] == pam) & (df['predicted_mileage'].isnull())].empty:\n",
    "        continue\n",
    "    amv = df[df['odometer_reading_miles'] == pam]['predicted_mileage'].mode()\n",
    "    if not amv.empty:\n",
    "        df.loc[(df['odometer_reading_miles'] == pam) & (df['predicted_mileage'].isnull()), 'predicted_mileage'] = amv.iloc[0]"
   ]
  },
  {
   "cell_type": "code",
   "execution_count": 149,
   "metadata": {},
   "outputs": [],
   "source": [
    "for pam in df['plate'].unique():\n",
    "    if df[(df['plate'] == pam) & (df['predicted_mileage'].isnull())].empty:\n",
    "        continue\n",
    "    amv = df[df['plate'] == pam]['predicted_mileage'].mode()\n",
    "    if not amv.empty:\n",
    "        df.loc[(df['plate'] == pam) & (df['predicted_mileage'].isnull()), 'predicted_mileage'] = amv.iloc[0]"
   ]
  },
  {
   "cell_type": "code",
   "execution_count": 150,
   "metadata": {},
   "outputs": [],
   "source": [
    "for pam1 in df['fuel_type'].unique():\n",
    "    if df[(df['fuel_type'] == pam1) & (df['predicted_mileage'].isnull())].empty:\n",
    "        continue\n",
    "    amv1 = df[df['fuel_type'] == pam1]['predicted_mileage'].mode()\n",
    "    if not amv1.empty:\n",
    "        df.loc[(df['fuel_type'] == pam1) & (df['predicted_mileage'].isnull()), 'predicted_mileage'] = amv1.iloc[0]"
   ]
  },
  {
   "cell_type": "code",
   "execution_count": 151,
   "metadata": {},
   "outputs": [],
   "source": [
    "for naq in df['number_of_images'].unique():\n",
    "    if df[(df['number_of_images'] == naq) & (df['advert_quality'].isnull())].empty:\n",
    "        continue\n",
    "    noi = df[df['number_of_images'] == naq]['advert_quality'].mode()\n",
    "    if not noi.empty:\n",
    "        df.loc[(df['number_of_images'] == naq) & (df['advert_quality'].isnull()), 'advert_quality'] = noi.iloc[0]"
   ]
  },
  {
   "cell_type": "code",
   "execution_count": 152,
   "metadata": {},
   "outputs": [],
   "source": [
    "df = df.dropna(subset=['advert_quality'])"
   ]
  },
  {
   "cell_type": "code",
   "execution_count": 153,
   "metadata": {},
   "outputs": [
    {
     "data": {
      "text/plain": [
       "first_date_seen                                    0\n",
       "days_to_sell                                       0\n",
       "first_retailer_asking_price                        0\n",
       "last_retailer_asking_price                         0\n",
       "can_home_deliver                                   0\n",
       "reviews_per_100_advertised_stock_last_12_months    0\n",
       "segment                                            0\n",
       "seats                                              0\n",
       "doors                                              0\n",
       "co2_emission_gpkm                                  0\n",
       "top_speed_mph                                      0\n",
       "zero_to_sixty_mph_seconds                          0\n",
       "engine_power_bhp                                   0\n",
       "fuel_economy_wltp_combined_mpg                     0\n",
       "battery_range_miles                                0\n",
       "battery_usable_capacity_kwh                        0\n",
       "length_mm                                          0\n",
       "insurance_group                                    0\n",
       "plate                                              0\n",
       "make                                               0\n",
       "model                                              0\n",
       "body_type                                          0\n",
       "fuel_type                                          0\n",
       "transmission_type                                  0\n",
       "drivetrain                                         0\n",
       "odometer_reading_miles                             0\n",
       "attention_grabber                                  0\n",
       "manufacturer_approved                              0\n",
       "price_indicator_rating                             0\n",
       "adjusted_retail_amount_gbp                         0\n",
       "predicted_mileage                                  0\n",
       "number_of_images                                   0\n",
       "advert_quality                                     0\n",
       "postcode_area                                      0\n",
       "dtype: int64"
      ]
     },
     "execution_count": 153,
     "metadata": {},
     "output_type": "execute_result"
    }
   ],
   "source": [
    "df.isna().sum()"
   ]
  },
  {
   "cell_type": "markdown",
   "metadata": {},
   "source": [
    "## model building"
   ]
  },
  {
   "cell_type": "code",
   "execution_count": 154,
   "metadata": {},
   "outputs": [
    {
     "data": {
      "text/html": [
       "<div>\n",
       "<style scoped>\n",
       "    .dataframe tbody tr th:only-of-type {\n",
       "        vertical-align: middle;\n",
       "    }\n",
       "\n",
       "    .dataframe tbody tr th {\n",
       "        vertical-align: top;\n",
       "    }\n",
       "\n",
       "    .dataframe thead th {\n",
       "        text-align: right;\n",
       "    }\n",
       "</style>\n",
       "<table border=\"1\" class=\"dataframe\">\n",
       "  <thead>\n",
       "    <tr style=\"text-align: right;\">\n",
       "      <th></th>\n",
       "      <th>first_date_seen</th>\n",
       "      <th>days_to_sell</th>\n",
       "      <th>first_retailer_asking_price</th>\n",
       "      <th>last_retailer_asking_price</th>\n",
       "      <th>can_home_deliver</th>\n",
       "      <th>reviews_per_100_advertised_stock_last_12_months</th>\n",
       "      <th>segment</th>\n",
       "      <th>seats</th>\n",
       "      <th>doors</th>\n",
       "      <th>co2_emission_gpkm</th>\n",
       "      <th>...</th>\n",
       "      <th>drivetrain</th>\n",
       "      <th>odometer_reading_miles</th>\n",
       "      <th>attention_grabber</th>\n",
       "      <th>manufacturer_approved</th>\n",
       "      <th>price_indicator_rating</th>\n",
       "      <th>adjusted_retail_amount_gbp</th>\n",
       "      <th>predicted_mileage</th>\n",
       "      <th>number_of_images</th>\n",
       "      <th>advert_quality</th>\n",
       "      <th>postcode_area</th>\n",
       "    </tr>\n",
       "  </thead>\n",
       "  <tbody>\n",
       "    <tr>\n",
       "      <th>0</th>\n",
       "      <td>49</td>\n",
       "      <td>648</td>\n",
       "      <td>2434</td>\n",
       "      <td>1912</td>\n",
       "      <td>0</td>\n",
       "      <td>39</td>\n",
       "      <td>1</td>\n",
       "      <td>4</td>\n",
       "      <td>1</td>\n",
       "      <td>182</td>\n",
       "      <td>...</td>\n",
       "      <td>1</td>\n",
       "      <td>54877</td>\n",
       "      <td>2</td>\n",
       "      <td>0</td>\n",
       "      <td>0</td>\n",
       "      <td>5067</td>\n",
       "      <td>55495</td>\n",
       "      <td>50</td>\n",
       "      <td>64</td>\n",
       "      <td>1</td>\n",
       "    </tr>\n",
       "    <tr>\n",
       "      <th>1</th>\n",
       "      <td>60</td>\n",
       "      <td>639</td>\n",
       "      <td>6807</td>\n",
       "      <td>7468</td>\n",
       "      <td>0</td>\n",
       "      <td>91</td>\n",
       "      <td>0</td>\n",
       "      <td>4</td>\n",
       "      <td>3</td>\n",
       "      <td>96</td>\n",
       "      <td>...</td>\n",
       "      <td>1</td>\n",
       "      <td>14239</td>\n",
       "      <td>2</td>\n",
       "      <td>1</td>\n",
       "      <td>1</td>\n",
       "      <td>13419</td>\n",
       "      <td>22808</td>\n",
       "      <td>15</td>\n",
       "      <td>56</td>\n",
       "      <td>43</td>\n",
       "    </tr>\n",
       "    <tr>\n",
       "      <th>2</th>\n",
       "      <td>163</td>\n",
       "      <td>528</td>\n",
       "      <td>8020</td>\n",
       "      <td>6770</td>\n",
       "      <td>0</td>\n",
       "      <td>2</td>\n",
       "      <td>1</td>\n",
       "      <td>4</td>\n",
       "      <td>3</td>\n",
       "      <td>132</td>\n",
       "      <td>...</td>\n",
       "      <td>1</td>\n",
       "      <td>28283</td>\n",
       "      <td>2</td>\n",
       "      <td>0</td>\n",
       "      <td>2</td>\n",
       "      <td>13142</td>\n",
       "      <td>31066</td>\n",
       "      <td>22</td>\n",
       "      <td>60</td>\n",
       "      <td>93</td>\n",
       "    </tr>\n",
       "    <tr>\n",
       "      <th>3</th>\n",
       "      <td>231</td>\n",
       "      <td>453</td>\n",
       "      <td>5025</td>\n",
       "      <td>4058</td>\n",
       "      <td>0</td>\n",
       "      <td>79</td>\n",
       "      <td>0</td>\n",
       "      <td>4</td>\n",
       "      <td>3</td>\n",
       "      <td>110</td>\n",
       "      <td>...</td>\n",
       "      <td>1</td>\n",
       "      <td>62719</td>\n",
       "      <td>2</td>\n",
       "      <td>0</td>\n",
       "      <td>3</td>\n",
       "      <td>7920</td>\n",
       "      <td>58391</td>\n",
       "      <td>30</td>\n",
       "      <td>60</td>\n",
       "      <td>36</td>\n",
       "    </tr>\n",
       "    <tr>\n",
       "      <th>4</th>\n",
       "      <td>262</td>\n",
       "      <td>409</td>\n",
       "      <td>18848</td>\n",
       "      <td>17570</td>\n",
       "      <td>0</td>\n",
       "      <td>68</td>\n",
       "      <td>0</td>\n",
       "      <td>4</td>\n",
       "      <td>2</td>\n",
       "      <td>137</td>\n",
       "      <td>...</td>\n",
       "      <td>1</td>\n",
       "      <td>8758</td>\n",
       "      <td>2</td>\n",
       "      <td>1</td>\n",
       "      <td>1</td>\n",
       "      <td>33862</td>\n",
       "      <td>9330</td>\n",
       "      <td>22</td>\n",
       "      <td>47</td>\n",
       "      <td>56</td>\n",
       "    </tr>\n",
       "    <tr>\n",
       "      <th>5</th>\n",
       "      <td>297</td>\n",
       "      <td>389</td>\n",
       "      <td>127</td>\n",
       "      <td>129</td>\n",
       "      <td>0</td>\n",
       "      <td>26</td>\n",
       "      <td>1</td>\n",
       "      <td>4</td>\n",
       "      <td>1</td>\n",
       "      <td>140</td>\n",
       "      <td>...</td>\n",
       "      <td>1</td>\n",
       "      <td>67567</td>\n",
       "      <td>2</td>\n",
       "      <td>0</td>\n",
       "      <td>0</td>\n",
       "      <td>874</td>\n",
       "      <td>54881</td>\n",
       "      <td>15</td>\n",
       "      <td>55</td>\n",
       "      <td>80</td>\n",
       "    </tr>\n",
       "    <tr>\n",
       "      <th>6</th>\n",
       "      <td>337</td>\n",
       "      <td>342</td>\n",
       "      <td>3195</td>\n",
       "      <td>2440</td>\n",
       "      <td>0</td>\n",
       "      <td>91</td>\n",
       "      <td>1</td>\n",
       "      <td>4</td>\n",
       "      <td>3</td>\n",
       "      <td>87</td>\n",
       "      <td>...</td>\n",
       "      <td>1</td>\n",
       "      <td>50821</td>\n",
       "      <td>2</td>\n",
       "      <td>0</td>\n",
       "      <td>4</td>\n",
       "      <td>6716</td>\n",
       "      <td>47055</td>\n",
       "      <td>24</td>\n",
       "      <td>53</td>\n",
       "      <td>75</td>\n",
       "    </tr>\n",
       "    <tr>\n",
       "      <th>7</th>\n",
       "      <td>347</td>\n",
       "      <td>321</td>\n",
       "      <td>12960</td>\n",
       "      <td>10450</td>\n",
       "      <td>0</td>\n",
       "      <td>12</td>\n",
       "      <td>1</td>\n",
       "      <td>4</td>\n",
       "      <td>3</td>\n",
       "      <td>120</td>\n",
       "      <td>...</td>\n",
       "      <td>0</td>\n",
       "      <td>36069</td>\n",
       "      <td>2</td>\n",
       "      <td>0</td>\n",
       "      <td>0</td>\n",
       "      <td>23204</td>\n",
       "      <td>46892</td>\n",
       "      <td>23</td>\n",
       "      <td>43</td>\n",
       "      <td>65</td>\n",
       "    </tr>\n",
       "    <tr>\n",
       "      <th>8</th>\n",
       "      <td>354</td>\n",
       "      <td>327</td>\n",
       "      <td>20909</td>\n",
       "      <td>20778</td>\n",
       "      <td>0</td>\n",
       "      <td>91</td>\n",
       "      <td>1</td>\n",
       "      <td>3</td>\n",
       "      <td>0</td>\n",
       "      <td>234</td>\n",
       "      <td>...</td>\n",
       "      <td>0</td>\n",
       "      <td>3990</td>\n",
       "      <td>2</td>\n",
       "      <td>0</td>\n",
       "      <td>0</td>\n",
       "      <td>44799</td>\n",
       "      <td>19965</td>\n",
       "      <td>9</td>\n",
       "      <td>49</td>\n",
       "      <td>43</td>\n",
       "    </tr>\n",
       "    <tr>\n",
       "      <th>9</th>\n",
       "      <td>355</td>\n",
       "      <td>332</td>\n",
       "      <td>8368</td>\n",
       "      <td>7919</td>\n",
       "      <td>0</td>\n",
       "      <td>91</td>\n",
       "      <td>1</td>\n",
       "      <td>4</td>\n",
       "      <td>3</td>\n",
       "      <td>101</td>\n",
       "      <td>...</td>\n",
       "      <td>1</td>\n",
       "      <td>30867</td>\n",
       "      <td>2</td>\n",
       "      <td>0</td>\n",
       "      <td>1</td>\n",
       "      <td>14544</td>\n",
       "      <td>33425</td>\n",
       "      <td>30</td>\n",
       "      <td>64</td>\n",
       "      <td>17</td>\n",
       "    </tr>\n",
       "  </tbody>\n",
       "</table>\n",
       "<p>10 rows × 34 columns</p>\n",
       "</div>"
      ],
      "text/plain": [
       "   first_date_seen  days_to_sell  first_retailer_asking_price  \\\n",
       "0               49           648                         2434   \n",
       "1               60           639                         6807   \n",
       "2              163           528                         8020   \n",
       "3              231           453                         5025   \n",
       "4              262           409                        18848   \n",
       "5              297           389                          127   \n",
       "6              337           342                         3195   \n",
       "7              347           321                        12960   \n",
       "8              354           327                        20909   \n",
       "9              355           332                         8368   \n",
       "\n",
       "   last_retailer_asking_price  can_home_deliver  \\\n",
       "0                        1912                 0   \n",
       "1                        7468                 0   \n",
       "2                        6770                 0   \n",
       "3                        4058                 0   \n",
       "4                       17570                 0   \n",
       "5                         129                 0   \n",
       "6                        2440                 0   \n",
       "7                       10450                 0   \n",
       "8                       20778                 0   \n",
       "9                        7919                 0   \n",
       "\n",
       "   reviews_per_100_advertised_stock_last_12_months  segment  seats  doors  \\\n",
       "0                                               39        1      4      1   \n",
       "1                                               91        0      4      3   \n",
       "2                                                2        1      4      3   \n",
       "3                                               79        0      4      3   \n",
       "4                                               68        0      4      2   \n",
       "5                                               26        1      4      1   \n",
       "6                                               91        1      4      3   \n",
       "7                                               12        1      4      3   \n",
       "8                                               91        1      3      0   \n",
       "9                                               91        1      4      3   \n",
       "\n",
       "   co2_emission_gpkm  ...  drivetrain  odometer_reading_miles  \\\n",
       "0                182  ...           1                   54877   \n",
       "1                 96  ...           1                   14239   \n",
       "2                132  ...           1                   28283   \n",
       "3                110  ...           1                   62719   \n",
       "4                137  ...           1                    8758   \n",
       "5                140  ...           1                   67567   \n",
       "6                 87  ...           1                   50821   \n",
       "7                120  ...           0                   36069   \n",
       "8                234  ...           0                    3990   \n",
       "9                101  ...           1                   30867   \n",
       "\n",
       "   attention_grabber  manufacturer_approved  price_indicator_rating  \\\n",
       "0                  2                      0                       0   \n",
       "1                  2                      1                       1   \n",
       "2                  2                      0                       2   \n",
       "3                  2                      0                       3   \n",
       "4                  2                      1                       1   \n",
       "5                  2                      0                       0   \n",
       "6                  2                      0                       4   \n",
       "7                  2                      0                       0   \n",
       "8                  2                      0                       0   \n",
       "9                  2                      0                       1   \n",
       "\n",
       "   adjusted_retail_amount_gbp  predicted_mileage  number_of_images  \\\n",
       "0                        5067              55495                50   \n",
       "1                       13419              22808                15   \n",
       "2                       13142              31066                22   \n",
       "3                        7920              58391                30   \n",
       "4                       33862               9330                22   \n",
       "5                         874              54881                15   \n",
       "6                        6716              47055                24   \n",
       "7                       23204              46892                23   \n",
       "8                       44799              19965                 9   \n",
       "9                       14544              33425                30   \n",
       "\n",
       "   advert_quality  postcode_area  \n",
       "0              64              1  \n",
       "1              56             43  \n",
       "2              60             93  \n",
       "3              60             36  \n",
       "4              47             56  \n",
       "5              55             80  \n",
       "6              53             75  \n",
       "7              43             65  \n",
       "8              49             43  \n",
       "9              64             17  \n",
       "\n",
       "[10 rows x 34 columns]"
      ]
     },
     "execution_count": 154,
     "metadata": {},
     "output_type": "execute_result"
    }
   ],
   "source": [
    "at = df.apply(LabelEncoder().fit_transform)\n",
    "at.head(10)"
   ]
  },
  {
   "cell_type": "code",
   "execution_count": 155,
   "metadata": {},
   "outputs": [],
   "source": [
    "X = at.drop(['days_to_sell'], axis=1)\n",
    "y = at['days_to_sell']"
   ]
  },
  {
   "cell_type": "code",
   "execution_count": 156,
   "metadata": {},
   "outputs": [],
   "source": [
    "X_train, X_test, y_train, y_test = train_test_split(X, y, test_size=0.2, random_state=9)"
   ]
  },
  {
   "cell_type": "code",
   "execution_count": 157,
   "metadata": {},
   "outputs": [
    {
     "data": {
      "text/html": [
       "<style>#sk-container-id-3 {color: black;}#sk-container-id-3 pre{padding: 0;}#sk-container-id-3 div.sk-toggleable {background-color: white;}#sk-container-id-3 label.sk-toggleable__label {cursor: pointer;display: block;width: 100%;margin-bottom: 0;padding: 0.3em;box-sizing: border-box;text-align: center;}#sk-container-id-3 label.sk-toggleable__label-arrow:before {content: \"▸\";float: left;margin-right: 0.25em;color: #696969;}#sk-container-id-3 label.sk-toggleable__label-arrow:hover:before {color: black;}#sk-container-id-3 div.sk-estimator:hover label.sk-toggleable__label-arrow:before {color: black;}#sk-container-id-3 div.sk-toggleable__content {max-height: 0;max-width: 0;overflow: hidden;text-align: left;background-color: #f0f8ff;}#sk-container-id-3 div.sk-toggleable__content pre {margin: 0.2em;color: black;border-radius: 0.25em;background-color: #f0f8ff;}#sk-container-id-3 input.sk-toggleable__control:checked~div.sk-toggleable__content {max-height: 200px;max-width: 100%;overflow: auto;}#sk-container-id-3 input.sk-toggleable__control:checked~label.sk-toggleable__label-arrow:before {content: \"▾\";}#sk-container-id-3 div.sk-estimator input.sk-toggleable__control:checked~label.sk-toggleable__label {background-color: #d4ebff;}#sk-container-id-3 div.sk-label input.sk-toggleable__control:checked~label.sk-toggleable__label {background-color: #d4ebff;}#sk-container-id-3 input.sk-hidden--visually {border: 0;clip: rect(1px 1px 1px 1px);clip: rect(1px, 1px, 1px, 1px);height: 1px;margin: -1px;overflow: hidden;padding: 0;position: absolute;width: 1px;}#sk-container-id-3 div.sk-estimator {font-family: monospace;background-color: #f0f8ff;border: 1px dotted black;border-radius: 0.25em;box-sizing: border-box;margin-bottom: 0.5em;}#sk-container-id-3 div.sk-estimator:hover {background-color: #d4ebff;}#sk-container-id-3 div.sk-parallel-item::after {content: \"\";width: 100%;border-bottom: 1px solid gray;flex-grow: 1;}#sk-container-id-3 div.sk-label:hover label.sk-toggleable__label {background-color: #d4ebff;}#sk-container-id-3 div.sk-serial::before {content: \"\";position: absolute;border-left: 1px solid gray;box-sizing: border-box;top: 0;bottom: 0;left: 50%;z-index: 0;}#sk-container-id-3 div.sk-serial {display: flex;flex-direction: column;align-items: center;background-color: white;padding-right: 0.2em;padding-left: 0.2em;position: relative;}#sk-container-id-3 div.sk-item {position: relative;z-index: 1;}#sk-container-id-3 div.sk-parallel {display: flex;align-items: stretch;justify-content: center;background-color: white;position: relative;}#sk-container-id-3 div.sk-item::before, #sk-container-id-3 div.sk-parallel-item::before {content: \"\";position: absolute;border-left: 1px solid gray;box-sizing: border-box;top: 0;bottom: 0;left: 50%;z-index: -1;}#sk-container-id-3 div.sk-parallel-item {display: flex;flex-direction: column;z-index: 1;position: relative;background-color: white;}#sk-container-id-3 div.sk-parallel-item:first-child::after {align-self: flex-end;width: 50%;}#sk-container-id-3 div.sk-parallel-item:last-child::after {align-self: flex-start;width: 50%;}#sk-container-id-3 div.sk-parallel-item:only-child::after {width: 0;}#sk-container-id-3 div.sk-dashed-wrapped {border: 1px dashed gray;margin: 0 0.4em 0.5em 0.4em;box-sizing: border-box;padding-bottom: 0.4em;background-color: white;}#sk-container-id-3 div.sk-label label {font-family: monospace;font-weight: bold;display: inline-block;line-height: 1.2em;}#sk-container-id-3 div.sk-label-container {text-align: center;}#sk-container-id-3 div.sk-container {/* jupyter's `normalize.less` sets `[hidden] { display: none; }` but bootstrap.min.css set `[hidden] { display: none !important; }` so we also need the `!important` here to be able to override the default hidden behavior on the sphinx rendered scikit-learn.org. See: https://github.com/scikit-learn/scikit-learn/issues/21755 */display: inline-block !important;position: relative;}#sk-container-id-3 div.sk-text-repr-fallback {display: none;}</style><div id=\"sk-container-id-3\" class=\"sk-top-container\"><div class=\"sk-text-repr-fallback\"><pre>Pipeline(steps=[(&#x27;preprocessor&#x27;,\n",
       "                 Pipeline(steps=[(&#x27;pca&#x27;, PCA(n_components=10)),\n",
       "                                 (&#x27;scaler&#x27;, RobustScaler())])),\n",
       "                (&#x27;model&#x27;, LinearRegression())])</pre><b>In a Jupyter environment, please rerun this cell to show the HTML representation or trust the notebook. <br />On GitHub, the HTML representation is unable to render, please try loading this page with nbviewer.org.</b></div><div class=\"sk-container\" hidden><div class=\"sk-item sk-dashed-wrapped\"><div class=\"sk-label-container\"><div class=\"sk-label sk-toggleable\"><input class=\"sk-toggleable__control sk-hidden--visually\" id=\"sk-estimator-id-11\" type=\"checkbox\" ><label for=\"sk-estimator-id-11\" class=\"sk-toggleable__label sk-toggleable__label-arrow\">Pipeline</label><div class=\"sk-toggleable__content\"><pre>Pipeline(steps=[(&#x27;preprocessor&#x27;,\n",
       "                 Pipeline(steps=[(&#x27;pca&#x27;, PCA(n_components=10)),\n",
       "                                 (&#x27;scaler&#x27;, RobustScaler())])),\n",
       "                (&#x27;model&#x27;, LinearRegression())])</pre></div></div></div><div class=\"sk-serial\"><div class=\"sk-item\"><div class=\"sk-label-container\"><div class=\"sk-label sk-toggleable\"><input class=\"sk-toggleable__control sk-hidden--visually\" id=\"sk-estimator-id-12\" type=\"checkbox\" ><label for=\"sk-estimator-id-12\" class=\"sk-toggleable__label sk-toggleable__label-arrow\">preprocessor: Pipeline</label><div class=\"sk-toggleable__content\"><pre>Pipeline(steps=[(&#x27;pca&#x27;, PCA(n_components=10)), (&#x27;scaler&#x27;, RobustScaler())])</pre></div></div></div><div class=\"sk-serial\"><div class=\"sk-item\"><div class=\"sk-estimator sk-toggleable\"><input class=\"sk-toggleable__control sk-hidden--visually\" id=\"sk-estimator-id-13\" type=\"checkbox\" ><label for=\"sk-estimator-id-13\" class=\"sk-toggleable__label sk-toggleable__label-arrow\">PCA</label><div class=\"sk-toggleable__content\"><pre>PCA(n_components=10)</pre></div></div></div><div class=\"sk-item\"><div class=\"sk-estimator sk-toggleable\"><input class=\"sk-toggleable__control sk-hidden--visually\" id=\"sk-estimator-id-14\" type=\"checkbox\" ><label for=\"sk-estimator-id-14\" class=\"sk-toggleable__label sk-toggleable__label-arrow\">RobustScaler</label><div class=\"sk-toggleable__content\"><pre>RobustScaler()</pre></div></div></div></div></div><div class=\"sk-item\"><div class=\"sk-estimator sk-toggleable\"><input class=\"sk-toggleable__control sk-hidden--visually\" id=\"sk-estimator-id-15\" type=\"checkbox\" ><label for=\"sk-estimator-id-15\" class=\"sk-toggleable__label sk-toggleable__label-arrow\">LinearRegression</label><div class=\"sk-toggleable__content\"><pre>LinearRegression()</pre></div></div></div></div></div></div></div>"
      ],
      "text/plain": [
       "Pipeline(steps=[('preprocessor',\n",
       "                 Pipeline(steps=[('pca', PCA(n_components=10)),\n",
       "                                 ('scaler', RobustScaler())])),\n",
       "                ('model', LinearRegression())])"
      ]
     },
     "execution_count": 157,
     "metadata": {},
     "output_type": "execute_result"
    }
   ],
   "source": [
    "preprocessor = Pipeline([\n",
    "    ('pca', PCA(n_components=10)),\n",
    "    ('scaler', RobustScaler()) \n",
    "])\n",
    "model = LinearRegression()\n",
    "\n",
    "pipeline = Pipeline([\n",
    "    ('preprocessor', preprocessor),\n",
    "    ('model', model) \n",
    "])\n",
    "\n",
    "pipeline.fit(X_train, y_train)"
   ]
  },
  {
   "cell_type": "code",
   "execution_count": 158,
   "metadata": {},
   "outputs": [
    {
     "data": {
      "text/plain": [
       "(0.976223875907746, 0.9763248901493825)"
      ]
     },
     "execution_count": 158,
     "metadata": {},
     "output_type": "execute_result"
    }
   ],
   "source": [
    "pipeline.score(X_train, y_train), pipeline.score(X_test, y_test)"
   ]
  },
  {
   "cell_type": "code",
   "execution_count": 165,
   "metadata": {},
   "outputs": [
    {
     "name": "stdout",
     "output_type": "stream",
     "text": [
      "Cross-Validation Scores: [0.97628487 0.97655615 0.97663557 0.97539888 0.97657952]\n",
      "Mean Cross-Validation Score: 0.9762910004859082\n",
      "Standard Deviation of Cross-Validation Scores: 0.00046221103156884587\n"
     ]
    }
   ],
   "source": [
    "k = 5 \n",
    "kf = KFold(n_splits=k, shuffle=True, random_state=42)\n",
    "cv_scores = cross_val_score(pipeline, X_train, y_train, cv=kf)\n",
    "print(\"Cross-Validation Scores:\", cv_scores)\n",
    "mean_cv_score = cv_scores.mean()\n",
    "std_cv_score = cv_scores.std()\n",
    "print(\"Mean Cross-Validation Score:\", mean_cv_score)\n",
    "print(\"Standard Deviation of Cross-Validation Scores:\", std_cv_score)"
   ]
  },
  {
   "cell_type": "code",
   "execution_count": 204,
   "metadata": {},
   "outputs": [
    {
     "name": "stdout",
     "output_type": "stream",
     "text": [
      "Best hyperparameters: {'model__fit_intercept': True, 'preprocessor__pca__n_components': 30}\n",
      "Best score: 0.9787752710054572\n"
     ]
    }
   ],
   "source": [
    "param_grid = {\n",
    "    'model__fit_intercept': [True, False], 'preprocessor__pca__n_components': [5, 10, 15, 20, 25, 30],\n",
    "}\n",
    "\n",
    "Gridsearch = GridSearchCV(estimator=pipeline,\n",
    "                           param_grid=param_grid,\n",
    "                           scoring='r2',\n",
    "                           cv=10,\n",
    "                           refit=True,\n",
    "                           n_jobs=1)\n",
    "\n",
    "Gridsearch.fit(X_train, y_train)\n",
    "\n",
    "best_params = Gridsearch.best_params_\n",
    "Gsearch = Gridsearch.best_estimator_\n",
    "print(\"Best hyperparameters:\", best_params)\n",
    "print(\"Best score:\", Gridsearch.best_score_)\n"
   ]
  },
  {
   "cell_type": "code",
   "execution_count": 205,
   "metadata": {},
   "outputs": [
    {
     "data": {
      "text/plain": [
       "(0.9788020008617094, 0.9764508577247822)"
      ]
     },
     "execution_count": 205,
     "metadata": {},
     "output_type": "execute_result"
    }
   ],
   "source": [
    "Gsearch.score(X_train, y_train), pipeline.score(X_test, y_test)"
   ]
  },
  {
   "cell_type": "code",
   "execution_count": 207,
   "metadata": {},
   "outputs": [
    {
     "name": "stdout",
     "output_type": "stream",
     "text": [
      "mean_absolute_error: 6.838710176933291\n",
      "mean_squared_error: 63.2656609846131\n"
     ]
    }
   ],
   "source": [
    "y_pred = Gsearch.predict(X_test)\n",
    "m_abs_er = mean_absolute_error(y_test, y_pred)\n",
    "m_squ_er = mean_squared_error(y_test, y_pred)\n",
    "print('mean_absolute_error:', m_abs_er)\n",
    "print('mean_squared_error:', m_squ_er)"
   ]
  },
  {
   "cell_type": "code",
   "execution_count": 208,
   "metadata": {},
   "outputs": [
    {
     "data": {
      "text/plain": [
       "<sklearn.metrics._plot.regression.PredictionErrorDisplay at 0x15103ead0>"
      ]
     },
     "execution_count": 208,
     "metadata": {},
     "output_type": "execute_result"
    },
    {
     "data": {
      "image/png": "[encoded data removed]",
      "text/plain": [
       "<Figure size 640x480 with 1 Axes>"
      ]
     },
     "metadata": {},
     "output_type": "display_data"
    }
   ],
   "source": [
    "PredictionErrorDisplay.from_estimator(\n",
    "    Gsearch, X, y, kind=\"actual_vs_predicted\", scatter_kwargs=dict(alpha=0.5)\n",
    ")"
   ]
  },
  {
   "cell_type": "code",
   "execution_count": 213,
   "metadata": {},
   "outputs": [
    {
     "ename": "ValueError",
     "evalue": "All arrays must be of the same length",
     "output_type": "error",
     "traceback": [
      "\u001b[0;31m---------------------------------------------------------------------------\u001b[0m",
      "\u001b[0;31mValueError\u001b[0m                                Traceback (most recent call last)",
      "Cell \u001b[0;32mIn[213], line 3\u001b[0m\n\u001b[1;32m      1\u001b[0m coefficients \u001b[38;5;241m=\u001b[39m Gsearch\u001b[38;5;241m.\u001b[39mnamed_steps[\u001b[38;5;124m'\u001b[39m\u001b[38;5;124mmodel\u001b[39m\u001b[38;5;124m'\u001b[39m]\u001b[38;5;241m.\u001b[39mcoef_\n\u001b[0;32m----> 3\u001b[0m mse_red \u001b[38;5;241m=\u001b[39m pd\u001b[38;5;241m.\u001b[39mDataFrame({\u001b[38;5;124m'\u001b[39m\u001b[38;5;124mfeature\u001b[39m\u001b[38;5;124m'\u001b[39m: X_train\u001b[38;5;241m.\u001b[39mcolumns, \u001b[38;5;124m'\u001b[39m\u001b[38;5;124mmse reduction\u001b[39m\u001b[38;5;124m'\u001b[39m: \u001b[38;5;28mabs\u001b[39m(coefficients)})\n\u001b[1;32m      5\u001b[0m mse_red \u001b[38;5;241m=\u001b[39m mse_red\u001b[38;5;241m.\u001b[39msort_values(by\u001b[38;5;241m=\u001b[39m\u001b[38;5;124m'\u001b[39m\u001b[38;5;124mmse reduction\u001b[39m\u001b[38;5;124m'\u001b[39m, ascending\u001b[38;5;241m=\u001b[39m\u001b[38;5;28;01mFalse\u001b[39;00m)\n\u001b[1;32m      7\u001b[0m \u001b[38;5;28mprint\u001b[39m(mse_red)\n",
      "File \u001b[0;32m~/anaconda3/lib/python3.11/site-packages/pandas/core/frame.py:709\u001b[0m, in \u001b[0;36mDataFrame.__init__\u001b[0;34m(self, data, index, columns, dtype, copy)\u001b[0m\n\u001b[1;32m    703\u001b[0m     mgr \u001b[38;5;241m=\u001b[39m \u001b[38;5;28mself\u001b[39m\u001b[38;5;241m.\u001b[39m_init_mgr(\n\u001b[1;32m    704\u001b[0m         data, axes\u001b[38;5;241m=\u001b[39m{\u001b[38;5;124m\"\u001b[39m\u001b[38;5;124mindex\u001b[39m\u001b[38;5;124m\"\u001b[39m: index, \u001b[38;5;124m\"\u001b[39m\u001b[38;5;124mcolumns\u001b[39m\u001b[38;5;124m\"\u001b[39m: columns}, dtype\u001b[38;5;241m=\u001b[39mdtype, copy\u001b[38;5;241m=\u001b[39mcopy\n\u001b[1;32m    705\u001b[0m     )\n\u001b[1;32m    707\u001b[0m \u001b[38;5;28;01melif\u001b[39;00m \u001b[38;5;28misinstance\u001b[39m(data, \u001b[38;5;28mdict\u001b[39m):\n\u001b[1;32m    708\u001b[0m     \u001b[38;5;66;03m# GH#38939 de facto copy defaults to False only in non-dict cases\u001b[39;00m\n\u001b[0;32m--> 709\u001b[0m     mgr \u001b[38;5;241m=\u001b[39m dict_to_mgr(data, index, columns, dtype\u001b[38;5;241m=\u001b[39mdtype, copy\u001b[38;5;241m=\u001b[39mcopy, typ\u001b[38;5;241m=\u001b[39mmanager)\n\u001b[1;32m    710\u001b[0m \u001b[38;5;28;01melif\u001b[39;00m \u001b[38;5;28misinstance\u001b[39m(data, ma\u001b[38;5;241m.\u001b[39mMaskedArray):\n\u001b[1;32m    711\u001b[0m     \u001b[38;5;28;01mfrom\u001b[39;00m \u001b[38;5;21;01mnumpy\u001b[39;00m\u001b[38;5;21;01m.\u001b[39;00m\u001b[38;5;21;01mma\u001b[39;00m \u001b[38;5;28;01mimport\u001b[39;00m mrecords\n",
      "File \u001b[0;32m~/anaconda3/lib/python3.11/site-packages/pandas/core/internals/construction.py:481\u001b[0m, in \u001b[0;36mdict_to_mgr\u001b[0;34m(data, index, columns, dtype, typ, copy)\u001b[0m\n\u001b[1;32m    477\u001b[0m     \u001b[38;5;28;01melse\u001b[39;00m:\n\u001b[1;32m    478\u001b[0m         \u001b[38;5;66;03m# dtype check to exclude e.g. range objects, scalars\u001b[39;00m\n\u001b[1;32m    479\u001b[0m         arrays \u001b[38;5;241m=\u001b[39m [x\u001b[38;5;241m.\u001b[39mcopy() \u001b[38;5;28;01mif\u001b[39;00m \u001b[38;5;28mhasattr\u001b[39m(x, \u001b[38;5;124m\"\u001b[39m\u001b[38;5;124mdtype\u001b[39m\u001b[38;5;124m\"\u001b[39m) \u001b[38;5;28;01melse\u001b[39;00m x \u001b[38;5;28;01mfor\u001b[39;00m x \u001b[38;5;129;01min\u001b[39;00m arrays]\n\u001b[0;32m--> 481\u001b[0m \u001b[38;5;28;01mreturn\u001b[39;00m arrays_to_mgr(arrays, columns, index, dtype\u001b[38;5;241m=\u001b[39mdtype, typ\u001b[38;5;241m=\u001b[39mtyp, consolidate\u001b[38;5;241m=\u001b[39mcopy)\n",
      "File \u001b[0;32m~/anaconda3/lib/python3.11/site-packages/pandas/core/internals/construction.py:115\u001b[0m, in \u001b[0;36marrays_to_mgr\u001b[0;34m(arrays, columns, index, dtype, verify_integrity, typ, consolidate)\u001b[0m\n\u001b[1;32m    112\u001b[0m \u001b[38;5;28;01mif\u001b[39;00m verify_integrity:\n\u001b[1;32m    113\u001b[0m     \u001b[38;5;66;03m# figure out the index, if necessary\u001b[39;00m\n\u001b[1;32m    114\u001b[0m     \u001b[38;5;28;01mif\u001b[39;00m index \u001b[38;5;129;01mis\u001b[39;00m \u001b[38;5;28;01mNone\u001b[39;00m:\n\u001b[0;32m--> 115\u001b[0m         index \u001b[38;5;241m=\u001b[39m _extract_index(arrays)\n\u001b[1;32m    116\u001b[0m     \u001b[38;5;28;01melse\u001b[39;00m:\n\u001b[1;32m    117\u001b[0m         index \u001b[38;5;241m=\u001b[39m ensure_index(index)\n",
      "File \u001b[0;32m~/anaconda3/lib/python3.11/site-packages/pandas/core/internals/construction.py:655\u001b[0m, in \u001b[0;36m_extract_index\u001b[0;34m(data)\u001b[0m\n\u001b[1;32m    653\u001b[0m lengths \u001b[38;5;241m=\u001b[39m \u001b[38;5;28mlist\u001b[39m(\u001b[38;5;28mset\u001b[39m(raw_lengths))\n\u001b[1;32m    654\u001b[0m \u001b[38;5;28;01mif\u001b[39;00m \u001b[38;5;28mlen\u001b[39m(lengths) \u001b[38;5;241m>\u001b[39m \u001b[38;5;241m1\u001b[39m:\n\u001b[0;32m--> 655\u001b[0m     \u001b[38;5;28;01mraise\u001b[39;00m \u001b[38;5;167;01mValueError\u001b[39;00m(\u001b[38;5;124m\"\u001b[39m\u001b[38;5;124mAll arrays must be of the same length\u001b[39m\u001b[38;5;124m\"\u001b[39m)\n\u001b[1;32m    657\u001b[0m \u001b[38;5;28;01mif\u001b[39;00m have_dicts:\n\u001b[1;32m    658\u001b[0m     \u001b[38;5;28;01mraise\u001b[39;00m \u001b[38;5;167;01mValueError\u001b[39;00m(\n\u001b[1;32m    659\u001b[0m         \u001b[38;5;124m\"\u001b[39m\u001b[38;5;124mMixing dicts with non-Series may lead to ambiguous ordering.\u001b[39m\u001b[38;5;124m\"\u001b[39m\n\u001b[1;32m    660\u001b[0m     )\n",
      "\u001b[0;31mValueError\u001b[0m: All arrays must be of the same length"
     ]
    }
   ],
   "source": [
    "coefficients = Gsearch.named_steps['model'].coef_\n",
    "mse_red = pd.DataFrame({'feature': X_train.columns, 'mse reduction': abs(coefficients)})\n",
    "mse_red = mse_red.sort_values(by='mse reduction', ascending=False)\n",
    "print(mse_red)"
   ]
  }
 ],
 "metadata": {
  "kernelspec": {
   "display_name": "Python 3",
   "language": "python",
   "name": "python3"
  },
  "language_info": {
   "codemirror_mode": {
    "name": "ipython",
    "version": 3
   },
   "file_extension": ".py",
   "mimetype": "text/x-python",
   "name": "python",
   "nbconvert_exporter": "python",
   "pygments_lexer": "ipython3",
   "version": "3.11.5"
  }
 },
 "nbformat": 4,
 "nbformat_minor": 2
}
